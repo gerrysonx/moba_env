{
 "cells": [
  {
   "cell_type": "code",
   "execution_count": 7,
   "metadata": {},
   "outputs": [
    {
     "name": "stdout",
     "output_type": "stream",
     "text": [
      "->save_obs... /usr/local/lib/python3.5/dist-packages/ipykernel_launcher.py\n",
      "1562988798\n"
     ]
    }
   ],
   "source": [
    "    import os,sys\n",
    "    import time\n",
    "    print('->save_obs...', sys.argv[0])\n",
    "    #cur_path = os.path.abspath(sys.argv[0])[0]\n",
    "    #print('->save_obs...', sys.argv[0])\n",
    "    print(int(time.time()))"
   ]
  },
  {
   "cell_type": "code",
   "execution_count": null,
   "metadata": {},
   "outputs": [],
   "source": []
  }
 ],
 "metadata": {
  "kernelspec": {
   "display_name": "Python 3",
   "language": "python",
   "name": "python3"
  },
  "language_info": {
   "codemirror_mode": {
    "name": "ipython",
    "version": 3
   },
   "file_extension": ".py",
   "mimetype": "text/x-python",
   "name": "python",
   "nbconvert_exporter": "python",
   "pygments_lexer": "ipython3",
   "version": "3.5.2"
  }
 },
 "nbformat": 4,
 "nbformat_minor": 2
}
